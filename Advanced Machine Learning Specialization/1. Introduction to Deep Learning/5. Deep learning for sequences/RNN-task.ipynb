{
 "cells": [
  {
   "cell_type": "markdown",
   "metadata": {},
   "source": [
    "# Generating names with recurrent neural networks\n",
    "\n",
    "This time you'll find yourself delving into the heart (and other intestines) of recurrent neural networks on a class of toy problems.\n",
    "\n",
    "Struggle to find a name for the variable? Let's see how you'll come up with a name for your son/daughter. Surely no human has expertize over what is a good child name, so let us train RNN instead;\n",
    "\n",
    "It's dangerous to go alone, take these:"
   ]
  },
  {
   "cell_type": "code",
   "execution_count": 1,
   "metadata": {
    "ExecuteTime": {
     "end_time": "2018-08-13T20:26:42.696201Z",
     "start_time": "2018-08-13T20:26:38.104103Z"
    }
   },
   "outputs": [
    {
     "name": "stdout",
     "output_type": "stream",
     "text": [
      "1.2.1\n"
     ]
    },
    {
     "name": "stderr",
     "output_type": "stream",
     "text": [
      "Using TensorFlow backend.\n"
     ]
    }
   ],
   "source": [
    "import tensorflow as tf\n",
    "print(tf.__version__)\n",
    "import numpy as np\n",
    "import matplotlib.pyplot as plt\n",
    "%matplotlib inline\n",
    "import os\n",
    "import sys\n",
    "sys.path.append(\"..\")\n",
    "import keras_utils\n",
    "import tqdm_utils"
   ]
  },
  {
   "cell_type": "markdown",
   "metadata": {},
   "source": [
    "# Load data\n",
    "The dataset contains ~8k earthling names from different cultures, all in latin transcript.\n",
    "\n",
    "This notebook has been designed so as to allow you to quickly swap names for something similar: deep learning article titles, IKEA furniture, pokemon names, etc."
   ]
  },
  {
   "cell_type": "code",
   "execution_count": 2,
   "metadata": {
    "ExecuteTime": {
     "end_time": "2018-08-13T20:26:42.701832Z",
     "start_time": "2018-08-13T20:26:42.697766Z"
    },
    "collapsed": true
   },
   "outputs": [],
   "source": [
    "start_token = \" \"  # so that the network knows that we're generating a first token\n",
    "\n",
    "# this is the token for padding,\n",
    "# we will add fake pad token at the end of names \n",
    "# to make them of equal size for further batching\n",
    "pad_token = \"#\"\n",
    "\n",
    "with open(\"names\") as f:\n",
    "    names = f.read()[:-1].split('\\n')\n",
    "    names = [start_token + name for name in names]"
   ]
  },
  {
   "cell_type": "code",
   "execution_count": 3,
   "metadata": {
    "ExecuteTime": {
     "end_time": "2018-08-13T20:26:42.707885Z",
     "start_time": "2018-08-13T20:26:42.703302Z"
    }
   },
   "outputs": [
    {
     "name": "stdout",
     "output_type": "stream",
     "text": [
      "number of samples: 7944\n",
      " Abagael\n",
      " Claresta\n",
      " Glory\n",
      " Liliane\n",
      " Prissie\n",
      " Geeta\n",
      " Giovanne\n",
      " Piggy\n"
     ]
    }
   ],
   "source": [
    "print('number of samples:', len(names))\n",
    "for x in names[::1000]:\n",
    "    print(x)"
   ]
  },
  {
   "cell_type": "code",
   "execution_count": 4,
   "metadata": {
    "ExecuteTime": {
     "end_time": "2018-08-13T20:26:42.857411Z",
     "start_time": "2018-08-13T20:26:42.709371Z"
    }
   },
   "outputs": [
    {
     "name": "stdout",
     "output_type": "stream",
     "text": [
      "max length: 16\n"
     ]
    },
    {
     "data": {
      "image/png": "iVBORw0KGgoAAAANSUhEUgAAAYEAAAEICAYAAAC55kg0AAAABHNCSVQICAgIfAhkiAAAAAlwSFlz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\nLgJmZhlzETAzy9j/B8WHKERRkkO/AAAAAElFTkSuQmCC\n",
      "text/plain": [
       "<matplotlib.figure.Figure at 0x7f13e95ae240>"
      ]
     },
     "metadata": {},
     "output_type": "display_data"
    }
   ],
   "source": [
    "MAX_LENGTH = max(map(len, names))\n",
    "print(\"max length:\", MAX_LENGTH)\n",
    "\n",
    "plt.title('Sequence length distribution')\n",
    "plt.hist(list(map(len, names)), bins=25);"
   ]
  },
  {
   "cell_type": "markdown",
   "metadata": {},
   "source": [
    "# Text processing\n",
    "\n",
    "First we need to collect a \"vocabulary\" of all unique tokens i.e. unique characters. We can then encode inputs as a sequence of character ids."
   ]
  },
  {
   "cell_type": "code",
   "execution_count": 7,
   "metadata": {
    "ExecuteTime": {
     "end_time": "2018-08-13T20:26:42.864592Z",
     "start_time": "2018-08-13T20:26:42.858725Z"
    }
   },
   "outputs": [
    {
     "name": "stdout",
     "output_type": "stream",
     "text": [
      "n_tokens: 55\n"
     ]
    }
   ],
   "source": [
    "tokens = set() ### YOUR CODE HERE: all unique characters go here, padding included!\n",
    "for name in names:\n",
    "    for char in name:\n",
    "        tokens.add(char)\n",
    "\n",
    "tokens = list(tokens)\n",
    "n_tokens = len(tokens)\n",
    "print ('n_tokens:', n_tokens)\n",
    "\n",
    "assert 50 < n_tokens < 60"
   ]
  },
  {
   "cell_type": "markdown",
   "metadata": {},
   "source": [
    "### Cast everything from symbols into identifiers\n",
    "\n",
    "Tensorflow string manipulation is a bit tricky, so we'll work around it. \n",
    "We'll feed our recurrent neural network with ids of characters from our dictionary.\n",
    "\n",
    "To create such dictionary, let's assign `token_to_id`"
   ]
  },
  {
   "cell_type": "code",
   "execution_count": 11,
   "metadata": {
    "ExecuteTime": {
     "end_time": "2018-08-13T20:26:42.870330Z",
     "start_time": "2018-08-13T20:26:42.866135Z"
    }
   },
   "outputs": [
    {
     "name": "stdout",
     "output_type": "stream",
     "text": [
      "{'g': 0, 'q': 1, 'X': 2, 'j': 3, 'E': 4, 'a': 5, 'N': 6, 'K': 7, '-': 8, 'x': 9, 'w': 10, 'S': 11, 'W': 12, 'e': 13, 'm': 14, 'T': 15, 'r': 16, 'O': 17, 'k': 18, \"'\": 19, 'U': 20, 'H': 21, 's': 22, 'F': 23, 'G': 24, 'Q': 25, 'n': 26, 'y': 27, 'i': 28, 't': 29, 'b': 30, 'v': 31, 'P': 32, 'R': 33, 'D': 34, ' ': 35, 'z': 36, 'J': 37, 'B': 38, 'u': 39, 'A': 40, 'Y': 41, 'f': 42, 'Z': 43, 'h': 44, 'o': 45, 'C': 46, 'd': 47, 'c': 48, 'l': 49, 'V': 50, 'p': 51, 'L': 52, 'M': 53, 'I': 54}\n"
     ]
    }
   ],
   "source": [
    "token_to_id ={key:value for value,key in enumerate(tokens)} \n",
    "### YOUR CODE HERE: create a dictionary of {symbol -> its  index in tokens}\n",
    "for i,t in enumerate(tokens):\n",
    "    token_to_id[t] = i\n",
    "print(token_to_id)\n",
    "#token_to_id.append(pad_token)\n",
    "assert len(tokens) == len(token_to_id), \"dictionaries must have same size\""
   ]
  },
  {
   "cell_type": "code",
   "execution_count": 13,
   "metadata": {
    "ExecuteTime": {
     "end_time": "2018-08-13T20:26:42.875943Z",
     "start_time": "2018-08-13T20:26:42.871834Z"
    }
   },
   "outputs": [],
   "source": [
    "def to_matrix(names,max_len=None,pad=0,dtype='int32'):\n",
    "    \"\"\"Casts a list of names into rnn-digestable matrix\"\"\"\n",
    "    \n",
    "    max_len = max_len or max(map(len,names))\n",
    "    names_ix = np.zeros([len(names),max_len],dtype) + pad\n",
    "\n",
    "    for i in range(len(names)):\n",
    "        name_ix = list(map(token_to_id.get,names[i]))\n",
    "        names_ix[i,:len(name_ix)] = name_ix\n",
    "\n",
    "    return names_ix"
   ]
  },
  {
   "cell_type": "code",
   "execution_count": 14,
   "metadata": {
    "ExecuteTime": {
     "end_time": "2018-08-13T20:26:42.883107Z",
     "start_time": "2018-08-13T20:26:42.877186Z"
    }
   },
   "outputs": [
    {
     "name": "stdout",
     "output_type": "stream",
     "text": [
      " Abagael\n",
      " Glory\n",
      " Prissie\n",
      " Giovanne\n",
      "[[35 40 30  5  0  5 13 49  0]\n",
      " [35 24 49 45 16 27  0  0  0]\n",
      " [35 32 16 28 22 22 28 13  0]\n",
      " [35 24 28 45 31  5 26 26 13]]\n"
     ]
    }
   ],
   "source": [
    "# Example: cast 4 random names to padded matrices (so that we can easily batch them)\n",
    "print('\\n'.join(names[::2000]))\n",
    "print(to_matrix(names[::2000]))"
   ]
  },
  {
   "cell_type": "markdown",
   "metadata": {},
   "source": [
    "# Defining a recurrent neural network\n",
    "\n",
    "We can rewrite recurrent neural network as a consecutive application of dense layer to input $x_t$ and previous rnn state $h_t$. This is exactly what we're gonna do now.\n",
    "<img src="image/rnn.png" width="400px"/>\n",
    "\n",
    "Since we're training a language model, there should also be:\n",
    "* An embedding layer that converts character id x_t to a vector.\n",
    "* An output layer that predicts probabilities of next phoneme based on h_t+1"
   ]
  },
  {
   "cell_type": "code",
   "execution_count": 15,
   "metadata": {
    "ExecuteTime": {
     "end_time": "2018-08-13T20:26:44.039419Z",
     "start_time": "2018-08-13T20:26:42.884581Z"
    },
    "collapsed": true
   },
   "outputs": [],
   "source": [
    "# remember to reset your session if you change your graph!\n",
    "s = keras_utils.reset_tf_session()"
   ]
  },
  {
   "cell_type": "code",
   "execution_count": 21,
   "metadata": {
    "ExecuteTime": {
     "end_time": "2018-08-13T20:26:44.044903Z",
     "start_time": "2018-08-13T20:26:44.041084Z"
    }
   },
   "outputs": [],
   "source": [
    "import keras\n",
    "from keras.layers import Concatenate, Dense, Embedding\n",
    "\n",
    "rnn_num_units = 64  # size of hidden state\n",
    "embedding_size = 16  # for characters\n",
    "\n",
    "# Let's create layers for our recurrent network\n",
    "# Note: we create layers but we don't \"apply\" them yet (this is a \"functional API\" of Keras)\n",
    "# Note: set the correct activation (from keras.activations) to Dense layers!\n",
    "\n",
    "# an embedding layer that converts character ids into embeddings\n",
    "embed_x = Embedding(n_tokens, embedding_size)\n",
    "\n",
    "# a dense layer that maps input and previous state to new hidden state, [x_t,h_t]->h_t+1\n",
    "get_h_next = Dense(rnn_num_units,activation='tanh') ### YOUR CODE HERE\n",
    "\n",
    "# a dense layer that maps current hidden state to probabilities of characters [h_t+1]->P(x_t+1|h_t+1)\n",
    "get_probas = Dense(n_tokens,activation='softmax') ### YOUR CODE HERE "
   ]
  },
  {
   "cell_type": "markdown",
   "metadata": {},
   "source": [
    "We will generate names character by character starting with `start_token`:\n",
    "\n",
    "<img src="image/char_nn.png" width="400px"/>"
   ]
  },
  {
   "cell_type": "code",
   "execution_count": 22,
   "metadata": {
    "ExecuteTime": {
     "end_time": "2018-08-13T20:26:44.053212Z",
     "start_time": "2018-08-13T20:26:44.048389Z"
    },
    "collapsed": true
   },
   "outputs": [],
   "source": [
    "def rnn_one_step(x_t, h_t):\n",
    "    \"\"\"\n",
    "    Recurrent neural network step that produces \n",
    "    probabilities for next token x_t+1 and next state h_t+1\n",
    "    given current input x_t and previous state h_t.\n",
    "    We'll call this method repeatedly to produce the whole sequence.\n",
    "    \n",
    "    You're supposed to \"apply\" above layers to produce new tensors.\n",
    "    Follow inline instructions to complete the function.\n",
    "    \"\"\"\n",
    "    # convert character id into embedding\n",
    "    x_t_emb = embed_x(tf.reshape(x_t, [-1, 1]))[:, 0]\n",
    "    \n",
    "    # concatenate x_t embedding and previous h_t state\n",
    "    x_and_h = Concatenate()([x_t_emb,h_t]) ### YOUR CODE HERE\n",
    "    \n",
    "    # compute next state given x_and_h\n",
    "    h_next = get_h_next(x_and_h) ### YOUR CODE HERE\n",
    "    \n",
    "    # get probabilities for language model P(x_next|h_next)\n",
    "    output_probas = get_probas(h_next) ### YOUR CODE HERE\n",
    "    \n",
    "    return output_probas, h_next"
   ]
  },
  {
   "cell_type": "markdown",
   "metadata": {},
   "source": [
    "# RNN: loop\n",
    "\n",
    "Once `rnn_one_step` is ready, let's apply it in a loop over name characters to get predictions.\n",
    "\n",
    "Let's assume that all names are at most length-16 for now, so we can simply iterate over them in a for loop.\n"
   ]
  },
  {
   "cell_type": "code",
   "execution_count": 23,
   "metadata": {
    "ExecuteTime": {
     "end_time": "2018-08-13T20:26:44.342948Z",
     "start_time": "2018-08-13T20:26:44.056136Z"
    }
   },
   "outputs": [],
   "source": [
    "input_sequence = tf.placeholder(tf.int32, (None, MAX_LENGTH))  # batch of token ids\n",
    "batch_size = tf.shape(input_sequence)[0]\n",
    "\n",
    "predicted_probas = []\n",
    "h_prev = tf.zeros([batch_size, rnn_num_units])  # initial hidden state\n",
    "\n",
    "for t in range(MAX_LENGTH):\n",
    "    x_t = input_sequence[:, t]  # column t\n",
    "    probas_next, h_next = rnn_one_step(x_t, h_prev)\n",
    "    \n",
    "    h_prev = h_next\n",
    "    predicted_probas.append(probas_next)\n",
    "    \n",
    "# combine predicted_probas into [batch, time, n_tokens] tensor\n",
    "predicted_probas = tf.transpose(tf.stack(predicted_probas), [1, 0, 2])\n",
    "\n",
    "# next to last token prediction is not needed\n",
    "predicted_probas = predicted_probas[:, :-1, :]"
   ]
  },
  {
   "cell_type": "markdown",
   "metadata": {},
   "source": [
    "# RNN: loss and gradients\n",
    "\n",
    "Let's gather a matrix of predictions for $P(x_{next}|h)$ and the corresponding correct answers.\n",
    "\n",
    "We will flatten our matrices to shape [None, n_tokens] to make it easier.\n",
    "\n",
    "Our network can then be trained by minimizing crossentropy between predicted probabilities and those answers."
   ]
  },
  {
   "cell_type": "code",
   "execution_count": 24,
   "metadata": {
    "ExecuteTime": {
     "end_time": "2018-08-13T20:26:44.354310Z",
     "start_time": "2018-08-13T20:26:44.344648Z"
    },
    "collapsed": true
   },
   "outputs": [],
   "source": [
    "# flatten predictions to [batch*time, n_tokens]\n",
    "predictions_matrix = tf.reshape(predicted_probas, [-1, n_tokens])\n",
    "\n",
    "# flatten answers (next tokens) and one-hot encode them\n",
    "answers_matrix = tf.one_hot(tf.reshape(input_sequence[:, 1:], [-1]), n_tokens)"
   ]
  },
  {
   "cell_type": "markdown",
   "metadata": {},
   "source": [
    "Usually it's a good idea to ignore gradients of loss for padding token predictions.\n",
    "\n",
    "Because we don't care about further prediction after the pad_token is predicted for the first time, so it doesn't make sense to punish our network after the pad_token is predicted.\n",
    "\n",
    "For simplicity you can ignore this comment, it's up to you."
   ]
  },
  {
   "cell_type": "code",
   "execution_count": 25,
   "metadata": {
    "ExecuteTime": {
     "end_time": "2018-08-13T20:26:45.076642Z",
     "start_time": "2018-08-13T20:26:44.355594Z"
    },
    "collapsed": true
   },
   "outputs": [],
   "source": [
    "# Define the loss as categorical cross-entropy (e.g. from keras.losses).\n",
    "# Mind that predictions are probabilities and NOT logits!\n",
    "# Remember to apply tf.reduce_mean to get a scalar loss!\n",
    "loss = -tf.reduce_mean(answers_matrix*tf.log(predictions_matrix)) #### YOUR CODE HERE\n",
    "\n",
    "optimize = tf.train.AdamOptimizer().minimize(loss)"
   ]
  },
  {
   "cell_type": "markdown",
   "metadata": {},
   "source": [
    "# RNN: training"
   ]
  },
  {
   "cell_type": "code",
   "execution_count": 26,
   "metadata": {
    "ExecuteTime": {
     "end_time": "2018-08-13T20:26:55.322187Z",
     "start_time": "2018-08-13T20:26:45.078296Z"
    }
   },
   "outputs": [
    {
     "data": {
      "image/png": "iVBORw0KGgoAAAANSUhEUgAAAX0AAAD8CAYAAACb4nSYAAAABHNCSVQICAgIfAhkiAAAAAlwSFlz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\n",
      "text/plain": [
       "<matplotlib.figure.Figure at 0x7f1384779e10>"
      ]
     },
     "metadata": {},
     "output_type": "display_data"
    }
   ],
   "source": [
    "from IPython.display import clear_output\n",
    "from random import sample\n",
    "\n",
    "s.run(tf.global_variables_initializer())\n",
    "\n",
    "batch_size = 32\n",
    "history = []\n",
    "\n",
    "for i in range(1000):\n",
    "    batch = to_matrix(sample(names, batch_size), max_len=MAX_LENGTH)\n",
    "    loss_i, _ = s.run([loss, optimize], {input_sequence: batch})\n",
    "    \n",
    "    history.append(loss_i)\n",
    "    \n",
    "    if (i + 1) % 100 == 0:\n",
    "        clear_output(True)\n",
    "        plt.plot(history, label='loss')\n",
    "        plt.legend()\n",
    "        plt.show()\n",
    "\n",
    "assert np.mean(history[:10]) > np.mean(history[-10:]), \"RNN didn't converge\""
   ]
  },
  {
   "cell_type": "markdown",
   "metadata": {},
   "source": [
    "# RNN: sampling\n",
    "Once we've trained our network a bit, let's get to actually generating stuff. All we need is the `rnn_one_step` function you have written above."
   ]
  },
  {
   "cell_type": "code",
   "execution_count": 27,
   "metadata": {
    "ExecuteTime": {
     "end_time": "2018-08-13T20:26:55.341196Z",
     "start_time": "2018-08-13T20:26:55.323787Z"
    },
    "collapsed": true
   },
   "outputs": [],
   "source": [
    "x_t = tf.placeholder(tf.int32, (1,))\n",
    "h_t = tf.Variable(np.zeros([1, rnn_num_units], np.float32))  # we will update hidden state in this variable\n",
    "\n",
    "# For sampling we need to define `rnn_one_step` tensors only once in our graph.\n",
    "# We reuse all parameters thanks to functional API usage.\n",
    "# Then we can feed appropriate tensor values using feed_dict in a loop.\n",
    "# Note how different it is from training stage, where we had to unroll the whole sequence for backprop.\n",
    "next_probs, next_h = rnn_one_step(x_t, h_t)"
   ]
  },
  {
   "cell_type": "code",
   "execution_count": 28,
   "metadata": {
    "ExecuteTime": {
     "end_time": "2018-08-13T20:26:55.346422Z",
     "start_time": "2018-08-13T20:26:55.342659Z"
    },
    "collapsed": true
   },
   "outputs": [],
   "source": [
    "def generate_sample(seed_phrase=start_token, max_length=MAX_LENGTH):\n",
    "    '''\n",
    "    This function generates text given a `seed_phrase` as a seed.\n",
    "    Remember to include start_token in seed phrase!\n",
    "    Parameter `max_length` is used to set the number of characters in prediction.\n",
    "    '''\n",
    "    x_sequence = [token_to_id[token] for token in seed_phrase]\n",
    "    s.run(tf.assign(h_t, h_t.initial_value))\n",
    "    \n",
    "    # feed the seed phrase, if any\n",
    "    for ix in x_sequence[:-1]:\n",
    "         s.run(tf.assign(h_t, next_h), {x_t: [ix]})\n",
    "    \n",
    "    # start generating\n",
    "    for _ in range(max_length-len(seed_phrase)):\n",
    "        x_probs,_ = s.run([next_probs, tf.assign(h_t, next_h)], {x_t: [x_sequence[-1]]})\n",
    "        x_sequence.append(np.random.choice(n_tokens, p=x_probs[0]))\n",
    "        \n",
    "    return ''.join([tokens[ix] for ix in x_sequence if tokens[ix] != pad_token])"
   ]
  },
  {
   "cell_type": "code",
   "execution_count": 29,
   "metadata": {
    "ExecuteTime": {
     "end_time": "2018-08-13T20:26:58.458115Z",
     "start_time": "2018-08-13T20:26:55.347900Z"
    }
   },
   "outputs": [
    {
     "name": "stdout",
     "output_type": "stream",
     "text": [
      " Misiogggggggggg\n",
      " Hetta-sgetagggg\n",
      " Alenigggggggggg\n",
      " Kerlegggggggggg\n",
      " Bniligggggggggg\n",
      " Niggggggggggggg\n",
      " Lereggggggggggg\n",
      " Ghilggggggggggg\n",
      " Lineggggggggggg\n",
      " Bemineggggggggg\n"
     ]
    }
   ],
   "source": [
    "# without prefix\n",
    "for _ in range(10):\n",
    "    print(generate_sample())"
   ]
  },
  {
   "cell_type": "code",
   "execution_count": 30,
   "metadata": {
    "ExecuteTime": {
     "end_time": "2018-08-13T20:27:01.986726Z",
     "start_time": "2018-08-13T20:26:58.459810Z"
    }
   },
   "outputs": [
    {
     "name": "stdout",
     "output_type": "stream",
     "text": [
      " Trumpiegggggggg\n",
      " Trumpyggggggggg\n",
      " Trumpaggggggggg\n",
      " Trumpoegggggggg\n",
      " Trumpalledggggg\n",
      " Trumpemgggggggg\n",
      " Trumpuegggggggg\n",
      " Trumpgggggggggg\n",
      " Trumpevongggggg\n",
      " Trumpeggggggggg\n"
     ]
    }
   ],
   "source": [
    "# with prefix conditioning\n",
    "for _ in range(10):\n",
    "    print(generate_sample(' Trump'))"
   ]
  },
  {
   "cell_type": "markdown",
   "metadata": {},
   "source": [
    "# Submit to Coursera"
   ]
  },
  {
   "cell_type": "code",
   "execution_count": 31,
   "metadata": {
    "ExecuteTime": {
     "end_time": "2018-08-13T20:40:02.004926Z",
     "start_time": "2018-08-13T20:40:02.000821Z"
    },
    "collapsed": true
   },
   "outputs": [],
   "source": [
    "# token expires every 30 min\n",
    "COURSERA_TOKEN = \"JKJLdqAFOs7Wpy0f\"\n",
    "COURSERA_EMAIL = \"scorpion.k48.hust@gmail.com\""
   ]
  },
  {
   "cell_type": "code",
   "execution_count": 32,
   "metadata": {
    "ExecuteTime": {
     "end_time": "2018-08-13T20:40:18.923357Z",
     "start_time": "2018-08-13T20:40:03.549343Z"
    }
   },
   "outputs": [
    {
     "data": {
      "application/vnd.jupyter.widget-view+json": {
       "model_id": "bf03b92cd4604d84ad7ca876267a97ad",
       "version_major": 2,
       "version_minor": 0
      },
      "text/plain": [
       "A Jupyter Widget"
      ]
     },
     "metadata": {},
     "output_type": "display_data"
    },
    {
     "name": "stdout",
     "output_type": "stream",
     "text": [
      "\n",
      "Submitted to Coursera platform. See results on assignment page!\n"
     ]
    }
   ],
   "source": [
    "from submit import submit_char_rnn\n",
    "samples = [generate_sample(' Al') for i in tqdm_utils.tqdm_notebook_failsafe(range(25))]\n",
    "submission = (history, samples)\n",
    "submit_char_rnn(submission, COURSERA_EMAIL, COURSERA_TOKEN)"
   ]
  },
  {
   "cell_type": "markdown",
   "metadata": {},
   "source": [
    "# Try it out!\n",
    "\n",
    "__Disclaimer:__ This part of assignment is entirely optional. You won't receive bonus points for it. However, it's a fun thing to do. Please share your results on course forums.\n",
    "\n",
    "You've just implemented a recurrent language model that can be tasked with generating any kind of sequence, so there's plenty of data you can try it on:\n",
    "\n",
    "* Novels/poems/songs of your favorite author\n",
    "* News titles/clickbait titles\n",
    "* Source code of Linux or Tensorflow\n",
    "* Molecules in [smiles](https://en.wikipedia.org/wiki/Simplified_molecular-input_line-entry_system) format\n",
    "* Melody in notes/chords format\n",
    "* IKEA catalog titles\n",
    "* Pokemon names\n",
    "* Cards from Magic, the Gathering / Hearthstone\n",
    "\n",
    "If you're willing to give it a try, here's what you wanna look at:\n",
    "* Current data format is a sequence of lines, so a novel can be formatted as a list of sentences. Alternatively, you can change data preprocessing altogether.\n",
    "* While some datasets are readily available, others can only be scraped from the web. Try `Selenium` or `Scrapy` for that.\n",
    "* Make sure MAX_LENGTH is adjusted for longer datasets. There's also a bonus section about dynamic RNNs at the bottom.\n",
    "* More complex tasks require larger RNN architecture, try more neurons or several layers. It would also require more training iterations.\n",
    "* Long-term dependencies in music, novels or molecules are better handled with LSTM or GRU\n",
    "\n",
    "__Good hunting!__"
   ]
  },
  {
   "cell_type": "markdown",
   "metadata": {
    "collapsed": true
   },
   "source": [
    "# Bonus level: dynamic RNNs\n",
    "\n",
    "Apart from Keras, there's also a friendly TensorFlow API for recurrent neural nets. It's based around the symbolic loop function (aka [tf.scan](https://www.tensorflow.org/api_docs/python/tf/scan)).\n",
    "\n",
    "RNN loop that we implemented for training can be replaced with single TensorFlow instruction: [tf.nn.dynamic_rnn](https://www.tensorflow.org/api_docs/python/tf/nn/dynamic_rnn).\n",
    "This interface allows for dynamic sequence length and comes with some pre-implemented architectures.\n",
    "\n",
    "Take a look at [tf.nn.rnn_cell.BasicRNNCell](https://www.tensorflow.org/api_docs/python/tf/contrib/rnn/BasicRNNCell)."
   ]
  },
  {
   "cell_type": "code",
   "execution_count": 33,
   "metadata": {
    "ExecuteTime": {
     "end_time": "2018-08-13T20:27:12.975354Z",
     "start_time": "2018-08-13T20:27:12.737529Z"
    }
   },
   "outputs": [
    {
     "name": "stdout",
     "output_type": "stream",
     "text": [
      "LSTM outputs for each step [batch,time,n_tokens]:\n",
      "(10, 50, 55)\n"
     ]
    }
   ],
   "source": [
    "class CustomRNN(tf.nn.rnn_cell.BasicRNNCell):\n",
    "    def call(self, input, state):\n",
    "        # from docs:\n",
    "        # Returns:\n",
    "        # Output: A 2-D tensor with shape [batch_size, self.output_size].\n",
    "        # New state: Either a single 2-D tensor, or a tuple of tensors matching the arity and shapes of state.\n",
    "        return rnn_one_step(input[:, 0], state)\n",
    "    \n",
    "    @property\n",
    "    def output_size(self):\n",
    "        return n_tokens\n",
    "    \n",
    "cell = CustomRNN(rnn_num_units)\n",
    "\n",
    "input_sequence = tf.placeholder(tf.int32, (None, None))\n",
    "    \n",
    "predicted_probas, last_state = tf.nn.dynamic_rnn(cell, input_sequence[:, :, None], dtype=tf.float32)\n",
    "\n",
    "print('LSTM outputs for each step [batch,time,n_tokens]:')\n",
    "print(predicted_probas.eval({input_sequence: to_matrix(names[:10], max_len=50)}).shape)"
   ]
  },
  {
   "cell_type": "markdown",
   "metadata": {},
   "source": [
    "Note that we never used MAX_LENGTH in the code above: TF will iterate over however many time-steps you gave it.\n",
    "\n",
    "You can also use any pre-implemented RNN cell:"
   ]
  },
  {
   "cell_type": "code",
   "execution_count": 34,
   "metadata": {
    "ExecuteTime": {
     "end_time": "2018-08-13T20:27:12.981697Z",
     "start_time": "2018-08-13T20:27:12.977590Z"
    }
   },
   "outputs": [
    {
     "name": "stdout",
     "output_type": "stream",
     "text": [
      "BasicLSTMCell\tBasicRNNCell\tGRUCell\tLSTMCell\tMultiRNNCell\tRNNCell\tBasicLSTMCell\tBasicRNNCell\tBidirectionalGridLSTMCell\tCoupledInputForgetGateLSTMCell\tFusedRNNCell\tGLSTMCell\tGRUBlockCell\tGRUCell\tGridLSTMCell\tIntersectionRNNCell\tLSTMBlockCell\tLSTMBlockFusedCell\tLSTMCell\tLayerNormBasicLSTMCell\tMultiRNNCell\tNASCell\tPhasedLSTMCell\tRNNCell\tTimeFreqLSTMCell\tUGRNNCell\t"
     ]
    }
   ],
   "source": [
    "for obj in dir(tf.nn.rnn_cell) + dir(tf.contrib.rnn):\n",
    "    if obj.endswith('Cell'):\n",
    "        print(obj, end=\"\\t\")"
   ]
  },
  {
   "cell_type": "code",
   "execution_count": 35,
   "metadata": {
    "ExecuteTime": {
     "end_time": "2018-08-13T20:27:13.168207Z",
     "start_time": "2018-08-13T20:27:12.986884Z"
    }
   },
   "outputs": [
    {
     "name": "stdout",
     "output_type": "stream",
     "text": [
      "LSTM hidden state for each step [batch,time,rnn_num_units]:\n",
      "(10, 50, 64)\n"
     ]
    }
   ],
   "source": [
    "input_sequence = tf.placeholder(tf.int32, (None, None))\n",
    "\n",
    "inputs_embedded = embed_x(input_sequence)\n",
    "\n",
    "# standard cell returns hidden state as output!\n",
    "cell = tf.nn.rnn_cell.LSTMCell(rnn_num_units)\n",
    "\n",
    "state_sequence, last_state = tf.nn.dynamic_rnn(cell, inputs_embedded, dtype=tf.float32)\n",
    "\n",
    "s.run(tf.global_variables_initializer())\n",
    "\n",
    "print('LSTM hidden state for each step [batch,time,rnn_num_units]:')\n",
    "print(state_sequence.eval({input_sequence: to_matrix(names[:10], max_len=50)}).shape)"
   ]
  }
 ],
 "metadata": {
  "kernelspec": {
   "display_name": "Python 3",
   "language": "python",
   "name": "python3"
  },
  "language_info": {
   "codemirror_mode": {
    "name": "ipython",
    "version": 3
   },
   "file_extension": ".py",
   "mimetype": "text/x-python",
   "name": "python",
   "nbconvert_exporter": "python",
   "pygments_lexer": "ipython3",
   "version": "3.6.2"
  }
 },
 "nbformat": 4,
 "nbformat_minor": 1
}
